{
  "nbformat": 4,
  "nbformat_minor": 0,
  "metadata": {
    "colab": {
      "provenance": []
    },
    "kernelspec": {
      "name": "python3",
      "display_name": "Python 3"
    },
    "language_info": {
      "name": "python"
    }
  },
  "cells": [
    {
      "cell_type": "markdown",
      "source": [
        "Algorithm 1 DFO:- we tried to implement algorithm 1 and successfully coded the core part of it but stuck in the inbuilt functions used due to lack of proper test cases, we even tried to contact the authors regarding it but didn't connected with them.\n"
      ],
      "metadata": {
        "id": "cRDQo6Ve3coE"
      }
    },
    {
      "cell_type": "code",
      "execution_count": null,
      "metadata": {
        "id": "YZiTz4sQ3ZSH"
      },
      "outputs": [],
      "source": [
        "import random\n",
        "\n",
        "# Define the function to evaluate the dissatisfactory degree\n",
        "def F(δ):\n",
        "    # Dissatisfactory degree function: x + 5\n",
        "    return δ + 5\n",
        "\n",
        "# Define the function to classify solutions\n",
        "def classify_solutions(S, Y):\n",
        "    # Implement your solution classification logic here\n",
        "    # For example, return S+ and S- based on S and Y\n",
        "    S_plus = S  # Positive solutions (for example, lower dissatisfactory degree)\n",
        "    S_minus = []  # Negative solutions (for example, higher dissatisfactory degree)\n",
        "    return S_plus, S_minus\n",
        "\n",
        "# Define the MODELREFINE function\n",
        "def MODELREFINE(X, δ_plus, S_minus):\n",
        "    H = list(X)  # Initialize the new model as a copy of the domain\n",
        "    while any(δ_minus in S_minus for δ_minus in H):\n",
        "        d = random.randint(0, len(X[0]) - 1)  # Select a dimension\n",
        "        S_minus_l = [δ_minus for δ_minus in S_minus if δ_minus[d] > δ_plus[d]]\n",
        "        S_minus_s = [δ_minus for δ_minus in S_minus if δ_minus[d] < δ_plus[d]]\n",
        "        if len(S_minus_l) >= len(S_minus_s):\n",
        "            r = random.uniform(δ_plus[d], min(δ[d] for δ in S_minus_l))\n",
        "            H = [δ for δ in H if δ[d] <= r]\n",
        "        if len(S_minus_l) <= len(S_minus_s):\n",
        "            r = random.uniform(max(δ[d] for δ in S_minus_s), δ_plus[d])\n",
        "            H = [δ for δ in H if δ[d] >= r]\n",
        "    return H\n",
        "\n",
        "# Define the SAMPLE function\n",
        "def SAMPLE(H, δ_plus, n, D):\n",
        "    δ = list(δ_plus)  # Initialize a new solution as a copy of δ_plus\n",
        "    for _ in range(n):  # Mutate n times\n",
        "        d = random.randint(0, D - 1)  # Select a dimension\n",
        "        δ[d] = random.uniform(δ_plus[d] - 1, δ_plus[d] + 1)  # Adjust the range as needed\n",
        "    return δ  # Return the new solution\n",
        "\n",
        "# Define the main optimization function\n",
        "def OPTIMIZE(X, F, N, m, n):\n",
        "    S, Y = [], []  # Solution set, evaluation set\n",
        "    S_plus, S_minus = list(X), []  # Positive and negative solutions\n",
        "    δ_optimal = []  # Optimal solution\n",
        "    F_optimal = float('inf')  # Optimal evaluation\n",
        "\n",
        "    for _ in range(N):\n",
        "        for _ in range(m):\n",
        "            δ_plus = random.choice(S_plus)\n",
        "            H = MODELREFINE(X, δ_plus, S_minus)\n",
        "            δ_samples = [SAMPLE(H, δ_plus, n, 1) for _ in range(len(X))]\n",
        "            Y = [F(δ_i) for δ_i in δ_samples]\n",
        "            S, S_minus = classify_solutions(S, Y)\n",
        "            δ_optimal = min(S + [δ_optimal], key=lambda δ: F(δ))\n",
        "            F_optimal = F(δ_optimal)\n",
        "\n",
        "    return δ_optimal, F_optimal\n",
        "\n",
        "# Example usage\n",
        "X = [0, 1, 2, 3]\n",
        "N = 10\n",
        "m = 5\n",
        "n = 3\n",
        "\n",
        "optimal_solution, optimal_evaluation = OPTIMIZE(X, F, N, m, n)\n",
        "print(\"Optimal Solution:\", optimal_solution)\n",
        "print(\"Optimal Evaluation:\", optimal_evaluation)"
      ]
    }
  ]
}