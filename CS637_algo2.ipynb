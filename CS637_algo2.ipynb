{
  "nbformat": 4,
  "nbformat_minor": 0,
  "metadata": {
    "colab": {
      "provenance": []
    },
    "kernelspec": {
      "name": "python3",
      "display_name": "Python 3"
    },
    "language_info": {
      "name": "python"
    }
  },
  "cells": [
    {
      "cell_type": "markdown",
      "source": [
        "Algorithm 2 :- we have successfully implemented the algorithm 2 for simple test case and taking easy constraints."
      ],
      "metadata": {
        "id": "T4ppv3k0ax_-"
      }
    },
    {
      "cell_type": "code",
      "execution_count": null,
      "metadata": {
        "id": "XFToof_p1QNK"
      },
      "outputs": [],
      "source": [
        "def GENPREFIX(candidatePath, numSimulations):\n",
        "    index = len(candidatePath) - 1\n",
        "\n",
        "    for i in range(1, 4):  # Check location sets with size 1-3\n",
        "        for j in range(len(candidatePath)):\n",
        "            locationSet = candidatePath[j:j + i]\n",
        "\n",
        "            sat = False  # Initialize satisfiability flag\n",
        "\n",
        "            for k in range(numSimulations):  # Check all simulations\n",
        "                # Assuming you have a function check_constraints() to check if all constraints are TRUE for the location set\n",
        "                if check_constraints(locationSet):\n",
        "                    sat = True\n",
        "                    break  # Exit the loop if constraints are met\n",
        "\n",
        "            if not sat:  # Update to the smallest one\n",
        "                index = min(index, locationSet[i - 1])\n",
        "\n",
        "    # Create and return the Shortest Hardly Feasible Path Prefix\n",
        "    shortestPrefix = candidatePath[:index + 1]\n",
        "    return shortestPrefix\n",
        "\n",
        "def check_constraints(locationSet):\n",
        "    # Implement your constraint checking logic here\n",
        "    # For example, check if x >= 5\n",
        "    for location in locationSet:\n",
        "        if location < 5:\n",
        "            return False\n",
        "    return True\n",
        "\n",
        "# Example usage\n",
        "candidatePath = [1, 2, 3, 4, 5, 6, 7]  # Replace with your candidate path\n",
        "numSimulations = 10  # Replace with the desired number of simulations\n",
        "\n",
        "shortestPrefix = GENPREFIX(candidatePath, numSimulations)\n",
        "\n",
        "print(\"Shortest Hardly Feasible Path Prefix:\", shortestPrefix)\n"
      ]
    }
  ]
}